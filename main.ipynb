{
 "cells": [
  {
   "cell_type": "code",
   "execution_count": 34,
   "metadata": {},
   "outputs": [],
   "source": [
    "import random\n",
    "import numpy as np\n"
   ]
  },
  {
   "cell_type": "code",
   "execution_count": 35,
   "metadata": {},
   "outputs": [],
   "source": [
    "def cost_function(x, y, w, b):\n",
    "    '''\n",
    "    This is the cost function which calculates how well the model is performing.\n",
    "    The minimum the result is, the better.\n",
    "    Args:\n",
    "        x(ndarray): Training examples\n",
    "        y(ndarray): Target values\n",
    "        w(int): weight\n",
    "        b(int): bias\n",
    "    Returns:\n",
    "        total_cost(int): Cost value\n",
    "    '''\n",
    "    m = len(x)\n",
    "    total_cost = 0\n",
    "\n",
    "    for i in range(m):\n",
    "        f_wb = w * x[i] + b\n",
    "        cost = ( f_wb - y[i] ) ** 2\n",
    "        total_cost += cost\n",
    "\n",
    "    total_cost = total_cost/(2*m)\n",
    "    return total_cost\n"
   ]
  },
  {
   "cell_type": "code",
   "execution_count": 36,
   "metadata": {},
   "outputs": [],
   "source": [
    "def compute_gradient(x, y, w, b):\n",
    "    '''\n",
    "    This calculates the gradient for Weight and Bias values. Iterates through the training examples while computing derivative of each value.\n",
    "    Args:\n",
    "        x(ndarray): Training examples\n",
    "        y(ndarray): Target values\n",
    "        w(int): weight\n",
    "        b(int): bias\n",
    "    Returns:\n",
    "        dj_dw(int): Derivative with respect to weights.\n",
    "        dj_db(int): Derivative with respect to biases.\n",
    "\n",
    "    '''\n",
    "\n",
    "    m = len(x)\n",
    "    dj_dw = 0\n",
    "    dj_db = 0\n",
    "\n",
    "    for i in range(m):\n",
    "        f_wb = w * x[i] + b\n",
    "\n",
    "        dj_dw_i = (f_wb - y[i]) * x[i]\n",
    "        dj_db_i = (f_wb - y[i])\n",
    "\n",
    "        dj_dw += dj_dw_i\n",
    "        dj_db += dj_db_i\n",
    "\n",
    "    dj_dw = dj_dw/m\n",
    "    dj_db = dj_db/m\n",
    "\n",
    "    return dj_dw,dj_db\n"
   ]
  },
  {
   "cell_type": "code",
   "execution_count": 37,
   "metadata": {},
   "outputs": [],
   "source": [
    "def gradient_descent(x, y, alpha, num_iters, w_in, b_in, gradient):\n",
    "    '''\n",
    "    Performs gradient descent by taking using Compute_Gradient function as an argument.\n",
    "    Args:\n",
    "        x(ndarray): Training examples\n",
    "        y(ndarray): Target values\n",
    "        w_in(int): Initial weight\n",
    "        b_in(int): Initial bias\n",
    "        alpha(int): Learning rate\n",
    "        num_iters(int): Number of iterations to perform\n",
    "        gradient(function): A function to compute gradeints for weight and bias values\n",
    "    Returns:\n",
    "        w(int): Calculated weight, based on arguments provided\n",
    "        b(int): Calculated bias, based on arguments provided\n",
    "    '''\n",
    "    w = w_in\n",
    "    b = b_in\n",
    "\n",
    "    for i in range(num_iters):\n",
    "        dj_dw, dj_db = gradient(x, y, w, b)\n",
    "\n",
    "        w = w - (alpha * dj_dw)\n",
    "        b = b - (alpha * dj_db)\n",
    "\n",
    "    return w, b\n"
   ]
  },
  {
   "cell_type": "code",
   "execution_count": 38,
   "metadata": {},
   "outputs": [
    {
     "name": "stdout",
     "output_type": "stream",
     "text": [
      "197.22735353776213 -94.45109877075626\n",
      "[201.38993153588692, 398.6172850736491, 142.22172547455827, 260.5581375972156, 497.23096184253006]\n"
     ]
    }
   ],
   "source": [
    "x_train = np.array([1.5,2.5,1.2,1.8,3.0])\n",
    "y_train = np.array([200,400,150,250,500])\n",
    "\n",
    "temp_alpha = 0.01\n",
    "\n",
    "temp_iterations = 10000\n",
    "\n",
    "w = 0\n",
    "b = 0\n",
    "\n",
    "final_w, final_b = gradient_descent(x=x_train, y=y_train, alpha=temp_alpha, num_iters=temp_iterations, w_in=w, b_in=b, gradient=compute_gradient)\n",
    "\n",
    "print(final_w, final_b)\n",
    "\n",
    "results = []\n",
    "\n",
    "for i in range(len(x_train)):\n",
    "    results.append(final_w*x_train[i] + final_b)\n",
    "\n",
    "print(results)"
   ]
  }
 ],
 "metadata": {
  "kernelspec": {
   "display_name": "Python 3",
   "language": "python",
   "name": "python3"
  },
  "language_info": {
   "codemirror_mode": {
    "name": "ipython",
    "version": 3
   },
   "file_extension": ".py",
   "mimetype": "text/x-python",
   "name": "python",
   "nbconvert_exporter": "python",
   "pygments_lexer": "ipython3",
   "version": "3.11.3"
  },
  "orig_nbformat": 4
 },
 "nbformat": 4,
 "nbformat_minor": 2
}
